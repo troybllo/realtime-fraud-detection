{
 "cells": [
  {
   "cell_type": "code",
   "execution_count": null,
   "id": "cc48d7b1",
   "metadata": {},
   "outputs": [],
   "source": [
    "import pandas as pd\n",
    "import numpy as np\n",
    "import matplotlib.pyplot as plt\n",
    "from pandas._config import config\n",
    "import seaborn as sns\n",
    "from pyspark.sql import SparkSession\n",
    "from pyspark.sql.functions import *"
   ]
  },
  {
   "cell_type": "code",
   "execution_count": null,
   "id": "eae7a796",
   "metadata": {},
   "outputs": [],
   "source": [
    "spark = (\n",
    "    SparkSession.builder.appName(\"FraudDetection\")\n",
    "    .config(\"spark.sql.adaptive.enabled\", \"true\")\n",
    "    .config(\"spark.sql.adaptive.coalescePartitions.enabled\", \"true\")\n",
    "    .getOrCreate()\n",
    ")"
   ]
  },
  {
   "cell_type": "code",
   "execution_count": null,
   "id": "4836e3ee",
   "metadata": {},
   "outputs": [],
   "source": [
    "df_pandas = pd.read_csv(\"../data/raw/creditcard.csv\")"
   ]
  },
  {
   "cell_type": "code",
   "execution_count": null,
   "id": "f03d4e36",
   "metadata": {},
   "outputs": [],
   "source": [
    "print(f\"Dataset shape: {df_pandas.shape}\")\n",
    "print(f\"Fraud rate: {(df_pandas['Class'].sum() / len(df_pandas)) * 100:.2f}%\")\n",
    "print(f\"Total fraudulent transactions: {df_pandas['Class'].sum()}\")"
   ]
  },
  {
   "cell_type": "code",
   "execution_count": null,
   "id": "1ac12e06",
   "metadata": {},
   "outputs": [],
   "source": [
    "df_spark = spark.read.csv(\"../data/raw/creditcard.csv\", header=True, inferSchema=True)\n",
    "df_spark.printSchema()"
   ]
  }
 ],
 "metadata": {
  "jupytext": {
   "cell_metadata_filter": "-all",
   "formats": "ipynb,py:percent",
   "main_language": "python"
  }
 },
 "nbformat": 4,
 "nbformat_minor": 5
}
